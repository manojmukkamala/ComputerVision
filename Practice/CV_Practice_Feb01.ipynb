{
 "cells": [
  {
   "cell_type": "code",
   "execution_count": 5,
   "metadata": {},
   "outputs": [],
   "source": [
    "import numpy as np\n",
    "import cv2\n",
    "import matplotlib.pyplot as plt\n",
    "\n",
    "%matplotlib inline"
   ]
  },
  {
   "cell_type": "code",
   "execution_count": 2,
   "metadata": {},
   "outputs": [
    {
     "name": "stdout",
     "output_type": "stream",
     "text": [
      "C:\\Users\\shz204\\AppData\\Local\\Continuum\\anaconda3\\python.exe\n"
     ]
    }
   ],
   "source": [
    "import sys\n",
    "print(sys.executable)"
   ]
  },
  {
   "cell_type": "code",
   "execution_count": 3,
   "metadata": {},
   "outputs": [
    {
     "name": "stdout",
     "output_type": "stream",
     "text": [
      "C:\\Users\\shz204\\Downloads\\MasteringComputerVision-V1.03\\Master OpenCV\n"
     ]
    }
   ],
   "source": [
    "import os\n",
    "print(os.getcwd())"
   ]
  },
  {
   "cell_type": "code",
   "execution_count": 4,
   "metadata": {},
   "outputs": [
    {
     "name": "stdout",
     "output_type": "stream",
     "text": [
      "4.0.0\n"
     ]
    }
   ],
   "source": [
    "print(cv2.__version__)"
   ]
  },
  {
   "cell_type": "markdown",
   "metadata": {},
   "source": [
    "### Read and Display"
   ]
  },
  {
   "cell_type": "code",
   "execution_count": 6,
   "metadata": {},
   "outputs": [],
   "source": [
    "image = cv2.imread('tesla.jpg')\n",
    "\n",
    "cv2.imshow(\"OriginalImage\", image)\n",
    "cv2.waitKey()\n",
    "cv2.destroyAllWindows()"
   ]
  },
  {
   "cell_type": "markdown",
   "metadata": {},
   "source": [
    "### Grayscale"
   ]
  },
  {
   "cell_type": "code",
   "execution_count": 7,
   "metadata": {},
   "outputs": [],
   "source": [
    "gray_image = cv2.imread(\"tesla.jpg\", 0)\n",
    "\n",
    "cv2.imshow(\"Grayscale\", gray_image)\n",
    "cv2.waitKey()\n",
    "cv2.destroyAllWindows()"
   ]
  },
  {
   "cell_type": "code",
   "execution_count": 4,
   "metadata": {},
   "outputs": [],
   "source": [
    "image = cv2.imread('tesla.jpg')\n",
    "\n",
    "gray = cv2.cvtColor(image, cv2.COLOR_BGR2GRAY)\n",
    "\n",
    "cv2.imshow(\"OriginalImage\", image)\n",
    "cv2.imshow(\"Grayscale\", gray)\n",
    "cv2.waitKey()\n",
    "cv2.destroyAllWindows()"
   ]
  },
  {
   "cell_type": "markdown",
   "metadata": {},
   "source": [
    "### RGB"
   ]
  },
  {
   "cell_type": "code",
   "execution_count": 11,
   "metadata": {},
   "outputs": [],
   "source": [
    "B, G, R = cv2.split(image)"
   ]
  },
  {
   "cell_type": "code",
   "execution_count": 12,
   "metadata": {},
   "outputs": [
    {
     "name": "stdout",
     "output_type": "stream",
     "text": [
      "(600, 400)\n",
      "(600, 400)\n",
      "(600, 400)\n"
     ]
    }
   ],
   "source": [
    "print(B.shape)\n",
    "print(G.shape)\n",
    "print(R.shape)"
   ]
  },
  {
   "cell_type": "code",
   "execution_count": 13,
   "metadata": {},
   "outputs": [],
   "source": [
    "cv2.imshow(\"Blue\", B)\n",
    "cv2.imshow(\"Green\", G)\n",
    "cv2.imshow(\"Red\", R)\n",
    "\n",
    "cv2.waitKey()\n",
    "cv2.destroyAllWindows()"
   ]
  },
  {
   "cell_type": "code",
   "execution_count": 15,
   "metadata": {},
   "outputs": [],
   "source": [
    "merged = cv2.merge([B, G, R])\n",
    "\n",
    "cv2.imshow(\"Merged\", merged)\n",
    "cv2.waitKey()\n",
    "cv2.destroyAllWindows()"
   ]
  },
  {
   "cell_type": "code",
   "execution_count": 16,
   "metadata": {},
   "outputs": [],
   "source": [
    "zeros = np.zeros(image.shape[:2], dtype = \"uint8\")\n",
    "\n",
    "cv2.imshow(\"Blue\", cv2.merge([B, zeros, zeros]))\n",
    "cv2.imshow(\"Green\", cv2.merge([zeros, G, zeros]))\n",
    "cv2.imshow(\"Red\", cv2.merge([zeros, zeros, R]))\n",
    "\n",
    "cv2.waitKey()\n",
    "cv2.destroyAllWindows()"
   ]
  },
  {
   "cell_type": "markdown",
   "metadata": {},
   "source": [
    "### HSV "
   ]
  },
  {
   "cell_type": "code",
   "execution_count": 17,
   "metadata": {},
   "outputs": [],
   "source": [
    "image = cv2.imread(\"tesla.jpg\")\n",
    "\n",
    "hsv_image = cv2.cvtColor(image, cv2.COLOR_BGR2HSV)\n",
    "\n",
    "cv2.imshow(\"HSV_Image\", hsv_image)\n",
    "cv2.waitKey()\n",
    "cv2.destroyAllWindows()"
   ]
  },
  {
   "cell_type": "code",
   "execution_count": 18,
   "metadata": {},
   "outputs": [
    {
     "name": "stdout",
     "output_type": "stream",
     "text": [
      "(600, 400, 3)\n"
     ]
    }
   ],
   "source": [
    "print(hsv_image.shape)"
   ]
  },
  {
   "cell_type": "code",
   "execution_count": 19,
   "metadata": {},
   "outputs": [],
   "source": [
    "cv2.imshow('Hue Channel', hsv_image[:, :, 0])\n",
    "cv2.imshow('Saturation Channel', hsv_image[:, :, 1])\n",
    "cv2.imshow('Value Channel', hsv_image[:, :, 2])\n",
    "\n",
    "cv2.waitKey()\n",
    "cv2.destroyAllWindows()"
   ]
  },
  {
   "cell_type": "markdown",
   "metadata": {},
   "source": [
    "### Histograms"
   ]
  },
  {
   "cell_type": "code",
   "execution_count": 21,
   "metadata": {},
   "outputs": [
    {
     "data": {
      "image/png": "[encoded data removed]",
      "text/plain": [
       "<Figure size 432x288 with 1 Axes>"
      ]
     },
     "metadata": {
      "needs_background": "light"
     },
     "output_type": "display_data"
    }
   ],
   "source": [
    "blue_dist = cv2.calcHist([image], [0], None, [256], [0, 256])\n",
    "\n",
    "plt.plot(blue_dist, color = 'Blue')\n",
    "plt.xlim([0, 255])\n",
    "\n",
    "plt.show()"
   ]
  },
  {
   "cell_type": "code",
   "execution_count": 22,
   "metadata": {},
   "outputs": [
    {
     "data": {
      "image/png": "[encoded data removed]",
      "text/plain": [
       "<Figure size 432x288 with 1 Axes>"
      ]
     },
     "metadata": {
      "needs_background": "light"
     },
     "output_type": "display_data"
    }
   ],
   "source": [
    "green_dist = cv2.calcHist([image], [1], None, [256], [0, 256])\n",
    "\n",
    "plt.plot(green_dist, color = 'Green')\n",
    "plt.show()"
   ]
  },
  {
   "cell_type": "code",
   "execution_count": 23,
   "metadata": {},
   "outputs": [
    {
     "data": {
      "image/png": "[encoded data removed]",
      "text/plain": [
       "<Figure size 432x288 with 1 Axes>"
      ]
     },
     "metadata": {
      "needs_background": "light"
     },
     "output_type": "display_data"
    }
   ],
   "source": [
    "red_hist = cv2.calcHist([image], [2], None, [256], [0, 255])\n",
    "\n",
    "plt.plot(red_hist, color = \"Red\")\n",
    "plt.show()"
   ]
  },
  {
   "cell_type": "code",
   "execution_count": 24,
   "metadata": {},
   "outputs": [
    {
     "data": {
      "image/png": "[encoded data removed]",
      "text/plain": [
       "<Figure size 432x288 with 1 Axes>"
      ]
     },
     "metadata": {
      "needs_background": "light"
     },
     "output_type": "display_data"
    }
   ],
   "source": [
    "colors = ('b', 'g', 'r')\n",
    "\n",
    "for i, c in enumerate(colors):\n",
    "    histogram = cv2.calcHist([image], [i], None, [256], [0, 256])\n",
    "    plt.plot(histogram, color = c)\n",
    "    \n",
    "plt.show()"
   ]
  },
  {
   "cell_type": "code",
   "execution_count": 25,
   "metadata": {},
   "outputs": [
    {
     "data": {
      "text/plain": [
       "(720000,)"
      ]
     },
     "execution_count": 25,
     "metadata": {},
     "output_type": "execute_result"
    }
   ],
   "source": [
    "image.ravel().shape"
   ]
  },
  {
   "cell_type": "code",
   "execution_count": 27,
   "metadata": {},
   "outputs": [
    {
     "data": {
      "image/png": "[encoded data removed]",
      "text/plain": [
       "<Figure size 432x288 with 1 Axes>"
      ]
     },
     "metadata": {
      "needs_background": "light"
     },
     "output_type": "display_data"
    }
   ],
   "source": [
    "plt.hist(image.ravel(), 256, [0, 256])\n",
    "plt.show()"
   ]
  },
  {
   "cell_type": "markdown",
   "metadata": {},
   "source": [
    "### Drawing Images"
   ]
  },
  {
   "cell_type": "code",
   "execution_count": 4,
   "metadata": {},
   "outputs": [],
   "source": [
    "empty_image = np.zeros((512, 512, 3), np.uint8)\n",
    "empty_image_bw = np.zeros((512, 512), np.uint8)\n",
    "\n",
    "cv2.imshow(\"Black_Rectangle_color\", empty_image)\n",
    "cv2.imshow(\"Black_Rectangle_BW\", empty_image_bw)\n",
    "cv2.waitKey()\n",
    "cv2.destroyAllWindows()"
   ]
  },
  {
   "cell_type": "code",
   "execution_count": 7,
   "metadata": {},
   "outputs": [],
   "source": [
    "empty_image = np.zeros((512, 512, 3), np.uint8)\n",
    "cv2.line(empty_image, (0, 0), (511, 511), (256, 0, 0), 2)\n",
    "\n",
    "cv2.imshow(\"Blue Line\", empty_image)\n",
    "cv2.waitKey()\n",
    "cv2.destroyAllWindows()"
   ]
  },
  {
   "cell_type": "code",
   "execution_count": 14,
   "metadata": {},
   "outputs": [],
   "source": [
    "empty_image = np.zeros((512, 512, 3), np.uint8)\n",
    "cv2.rectangle(empty_image, (100, 200), (400, 300), (255, 255, 255), -1)\n",
    "\n",
    "cv2.imshow(\"Rectangle\", empty_image)\n",
    "cv2.waitKey()\n",
    "cv2.destroyAllWindows()"
   ]
  },
  {
   "cell_type": "code",
   "execution_count": 16,
   "metadata": {},
   "outputs": [],
   "source": [
    "empty_image = np.zeros((512, 512, 3), np.uint8)\n",
    "cv2.circle(empty_image, (256, 256), 100, (256, 256, 256), -1)\n",
    "\n",
    "cv2.imshow(\"Circle\", empty_image)\n",
    "cv2.waitKey()\n",
    "cv2.destroyAllWindows()"
   ]
  },
  {
   "cell_type": "code",
   "execution_count": 17,
   "metadata": {},
   "outputs": [],
   "source": [
    "empty_image = np.zeros((512, 512, 3), np.uint8)\n",
    "pts = np.array([[10, 50], [400, 50], [100, 400], [200, 200]], np.int32)\n",
    "pts = pts.reshape((-1, 1, 2))\n",
    "cv2.polylines(empty_image, [pts], True, (255, 255, 255), 2)\n",
    "\n",
    "cv2.imshow(\"Polygon\", empty_image)\n",
    "cv2.waitKey()\n",
    "cv2.destroyAllWindows()"
   ]
  },
  {
   "cell_type": "code",
   "execution_count": 27,
   "metadata": {},
   "outputs": [],
   "source": [
    "empty_image = np.zeros((512, 512, 3), np.uint8)\n",
    "cv2.putText(empty_image, \"Hello, World!\", (150, 256), cv2.FONT_HERSHEY_COMPLEX, 1, (256, 256, 256), 2)\n",
    "\n",
    "cv2.imshow(\"Text\", empty_image)\n",
    "cv2.waitKey()\n",
    "cv2.destroyAllWindows()"
   ]
  },
  {
   "cell_type": "markdown",
   "metadata": {},
   "source": [
    "### Translations"
   ]
  },
  {
   "cell_type": "code",
   "execution_count": 30,
   "metadata": {},
   "outputs": [],
   "source": [
    "height, width = image.shape[:2]\n",
    "T = np.float32([[1, 0, width/4], [0, 1, height/4]])\n",
    "trans_image = cv2.warpAffine(image, T, (width, height))\n",
    "\n",
    "cv2.imshow(\"Translated_Image\", trans_image)\n",
    "cv2.waitKey()\n",
    "cv2.destroyAllWindows()"
   ]
  },
  {
   "cell_type": "markdown",
   "metadata": {},
   "source": [
    "### Rotations"
   ]
  },
  {
   "cell_type": "code",
   "execution_count": 26,
   "metadata": {},
   "outputs": [],
   "source": [
    "height, width = image.shape[:2]\n",
    "rot_mat = cv2.getRotationMatrix2D((width/2, height/2), 45, 1)\n",
    "rot_image = cv2.warpAffine(image, rot_mat, (width, height))\n",
    "\n",
    "cv2.imshow(\"Rotated_Image\", rot_image)\n",
    "cv2.waitKey()\n",
    "cv2.destroyAllWindows()"
   ]
  },
  {
   "cell_type": "code",
   "execution_count": 27,
   "metadata": {},
   "outputs": [],
   "source": [
    "cv2.imshow(\"Origina_Image\", image)\n",
    "cv2.imshow(\"Transposed_Image\", cv2.transpose(image))\n",
    "cv2.imshow(\"Flipped_Image\", cv2.flip(image, -1))\n",
    "cv2.waitKey()\n",
    "cv2.destroyAllWindows()"
   ]
  },
  {
   "cell_type": "markdown",
   "metadata": {},
   "source": [
    "### Scaling"
   ]
  },
  {
   "cell_type": "code",
   "execution_count": 28,
   "metadata": {},
   "outputs": [],
   "source": [
    "img_scaled = cv2.resize(image, None, fx = 0.75, fy = 0.75)\n",
    "img_doubled = cv2.resize(image, None, fx = 2, fy = 2)\n",
    "img_skewed = cv2.resize(image, (width//2, height//2), interpolation = cv2.INTER_AREA)\n",
    "\n",
    "cv2.imshow(\"Original_Image\", image)\n",
    "cv2.imshow(\"Scaled_Down_Image\", img_scaled)\n",
    "cv2.imshow(\"Doubled_Imaged\", img_doubled)\n",
    "cv2.imshow(\"Skewed_Image\", img_skewed)\n",
    "cv2.waitKey()\n",
    "cv2.destroyAllWindows()"
   ]
  },
  {
   "cell_type": "code",
   "execution_count": 29,
   "metadata": {},
   "outputs": [],
   "source": [
    "img_zoomed_default = cv2.resize(image, None, fx = 2, fy = 2, interpolation = cv2.INTER_LINEAR)\n",
    "img_zoomed_cubic = cv2.resize(image, None, fx = 2, fy = 2, interpolation = cv2.INTER_CUBIC)\n",
    "img_zoomed_lanczos = cv2.resize(image, None, fx = 2, fy = 2, interpolation = cv2.INTER_LANCZOS4)\n",
    "\n",
    "cv2.imshow(\"Linear_Interpolation\", img_zoomed_default)\n",
    "cv2.imshow(\"Cubic_Interpolation\", img_zoomed_cubic)\n",
    "cv2.imshow(\"Lanczos_Interpolation\", img_zoomed_default)\n",
    "cv2.waitKey()\n",
    "cv2.destroyAllWindows()"
   ]
  },
  {
   "cell_type": "markdown",
   "metadata": {},
   "source": [
    "### Pyramids"
   ]
  },
  {
   "cell_type": "code",
   "execution_count": 31,
   "metadata": {},
   "outputs": [],
   "source": [
    "image_pyrup = cv2.pyrUp(image)\n",
    "image_pyrdown = cv2.pyrDown(image)\n",
    "\n",
    "cv2.imshow(\"PyrUp\", image_pyrup)\n",
    "cv2.imshow(\"PyrDown\", image_pyrdown)\n",
    "cv2.waitKey()\n",
    "cv2.destroyAllWindows()"
   ]
  },
  {
   "cell_type": "markdown",
   "metadata": {},
   "source": [
    "### Cropping"
   ]
  },
  {
   "cell_type": "code",
   "execution_count": 58,
   "metadata": {},
   "outputs": [],
   "source": [
    "start_row, start_col = int(height * 0.25), int(width * 0.15)\n",
    "end_row, end_col = int(height * 0.75), int(width * 0.75)\n",
    "\n",
    "cropped_image = image[start_row:end_row, start_col:end_col]\n",
    "\n",
    "cv2.imshow(\"Cropped_Image\", cropped_image)\n",
    "cv2.waitKey()\n",
    "cv2.destroyAllWindows()"
   ]
  },
  {
   "cell_type": "markdown",
   "metadata": {},
   "source": [
    "### Arthimetic Operations"
   ]
  },
  {
   "cell_type": "code",
   "execution_count": 38,
   "metadata": {},
   "outputs": [],
   "source": [
    "M = np.ones_like(image, dtype = \"uint8\") * 25\n",
    "\n",
    "added = cv2.add(image, M)\n",
    "subracted = cv2.subtract(image, M)\n",
    "\n",
    "cv2.imshow(\"Added\", added)\n",
    "cv2.imshow(\"Subracted\", subracted)\n",
    "cv2.waitKey()\n",
    "cv2.destroyAllWindows()"
   ]
  },
  {
   "cell_type": "markdown",
   "metadata": {},
   "source": [
    "### Bitwise Operations"
   ]
  },
  {
   "cell_type": "code",
   "execution_count": 114,
   "metadata": {},
   "outputs": [],
   "source": [
    "Z = np.zeros_like(gray_image, dtype=\"uint8\")\n",
    "\n",
    "bitand = cv2.bitwise_and(Z, gray_image)\n",
    "\n",
    "cv2.imshow(\"Bitwise_And\", bitand)\n",
    "cv2.waitKey()\n",
    "cv2.destroyAllWindows()"
   ]
  },
  {
   "cell_type": "code",
   "execution_count": 116,
   "metadata": {},
   "outputs": [],
   "source": [
    "M = np.ones_like(gray_image, dtype=\"uint8\")\n",
    "\n",
    "bitor = cv2.bitwise_or(M, gray_image)\n",
    "\n",
    "cv2.imshow(\"Bitwise_OR\", bitor)\n",
    "cv2.waitKey()\n",
    "cv2.destroyAllWindows()"
   ]
  },
  {
   "cell_type": "code",
   "execution_count": 118,
   "metadata": {},
   "outputs": [],
   "source": [
    "height, width = gray_image.shape\n",
    "\n",
    "start_row, start_col = int(height * 0.25), int(width * 0.15)\n",
    "end_row, end_col = int(height * 0.75), int(width * 0.75)\n",
    "\n",
    "Z = np.zeros_like(gray_image, dtype=\"uint8\")\n",
    "cv2.rectangle(Z, (start_col, start_row), (end_col, end_row), (255), -1)\n",
    "\n",
    "gray_image_bitand = cv2.bitwise_and(Z, gray_image)\n",
    "\n",
    "cv2.imshow(\"Gray_Image_Bitand\", gray_image_bitand)\n",
    "cv2.waitKey()\n",
    "cv2.destroyAllWindows()"
   ]
  },
  {
   "cell_type": "code",
   "execution_count": 135,
   "metadata": {},
   "outputs": [],
   "source": [
    "cv2.imshow(\"Image\", gray_image)\n",
    "cv2.waitKey()\n",
    "cv2.destroyAllWindows()"
   ]
  },
  {
   "cell_type": "code",
   "execution_count": 120,
   "metadata": {},
   "outputs": [],
   "source": [
    "height, width = image.shape[:2]\n",
    "\n",
    "start_row, start_col = int(height * 0.25), int(width * 0.15)\n",
    "end_row, end_col = int(height * 0.75), int(width * 0.75)\n",
    "\n",
    "Z = np.zeros_like(image, dtype=\"uint8\")\n",
    "cv2.rectangle(Z, (start_col, start_row), (end_col, end_row), (255, 255, 255), -1)\n",
    "\n",
    "color_image_bitand = cv2.bitwise_and(Z, image)\n",
    "\n",
    "cv2.imshow(\"Color_Image_Bitand\", color_image_bitand)\n",
    "cv2.waitKey()\n",
    "cv2.destroyAllWindows()"
   ]
  },
  {
   "cell_type": "code",
   "execution_count": 123,
   "metadata": {},
   "outputs": [],
   "source": [
    "height, width = gray_image.shape\n",
    "\n",
    "start_row, start_col = int(height * 0.25), int(width * 0.15)\n",
    "end_row, end_col = int(height * 0.75), int(width * 0.75)\n",
    "\n",
    "Z = np.zeros_like(gray_image, dtype=\"uint8\")\n",
    "cv2.rectangle(Z, (start_col, start_row), (end_col, end_row), (255), -1)\n",
    "\n",
    "gray_image_bitor = cv2.bitwise_or(Z, gray_image)\n",
    "\n",
    "cv2.imshow(\"Gray_Image_Bitor\", gray_image_bitor)\n",
    "cv2.waitKey()\n",
    "cv2.destroyAllWindows()"
   ]
  },
  {
   "cell_type": "code",
   "execution_count": 131,
   "metadata": {},
   "outputs": [],
   "source": [
    "height, width = gray_image.shape\n",
    "\n",
    "start_row, start_col = int(height * 0.25), int(width * 0.15)\n",
    "end_row, end_col = int(height * 0.75), int(width * 0.75)\n",
    "\n",
    "Z = np.zeros_like(gray_image, dtype=\"uint8\")\n",
    "cv2.rectangle(Z, (start_col, start_row), (end_col, end_row), (255), -1)\n",
    "\n",
    "gray_image_bitxor = cv2.bitwise_xor(Z, gray_image)\n",
    "\n",
    "cv2.imshow(\"Original_Image\", gray_image)\n",
    "cv2.imshow(\"Gray_Image_Bitxor\", gray_image_bitxor)\n",
    "cv2.waitKey()\n",
    "cv2.destroyAllWindows()"
   ]
  },
  {
   "cell_type": "code",
   "execution_count": 155,
   "metadata": {},
   "outputs": [],
   "source": [
    "gray_image = cv2.imread(\"tesla.jpg\", 0)\n",
    "\n",
    "gray_image_bitnot = cv2.bitwise_not(gray_image)\n",
    "\n",
    "cv2.imshow(\"Original_Image\", gray_image)\n",
    "cv2.imshow(\"Gray_Image_Bitnot\", gray_image_bitnot)\n",
    "cv2.waitKey()\n",
    "cv2.destroyAllWindows()\n",
    "\n",
    "gray_image = cv2.imread(\"tesla.jpg\", 0)"
   ]
  },
  {
   "cell_type": "markdown",
   "metadata": {},
   "source": [
    "### Blurring"
   ]
  },
  {
   "cell_type": "code",
   "execution_count": 10,
   "metadata": {},
   "outputs": [],
   "source": [
    "kernel_3x3 = np.ones((3, 3), np.float32) / 9\n",
    "\n",
    "blurred = cv2.filter2D(image, -1, kernel_3x3)\n",
    "\n",
    "cv2.imshow(\"3x3 Kernel Blurring\", blurred)\n",
    "cv2.waitKey()\n",
    "cv2.destroyAllWindows()"
   ]
  },
  {
   "cell_type": "code",
   "execution_count": 8,
   "metadata": {},
   "outputs": [],
   "source": [
    "kernel_7x7 = np.ones((7, 7), dtype=np.float32) / 9\n",
    "\n",
    "blurred2 = cv2.filter2D(image, -1, kernel_7x7)\n",
    "\n",
    "cv2.imshow(\"7x7 Kernel Blurring\", blurred2)\n",
    "cv2.waitKey()\n",
    "cv2.destroyAllWindows()"
   ]
  },
  {
   "cell_type": "code",
   "execution_count": 4,
   "metadata": {},
   "outputs": [],
   "source": [
    "blurr = cv2.blur(image, (3, 3))\n",
    "cv2.imshow(\"Averaging\", blurr)\n",
    "cv2.waitKey(0)\n",
    "\n",
    "gaussian = cv2.GaussianBlur(image, (7, 7), 0)\n",
    "cv2.imshow(\"Gaussian\", gaussian)\n",
    "cv2.waitKey(0)\n",
    "\n",
    "medianblur = cv2.medianBlur(image, 5)\n",
    "cv2.imshow(\"Median\", medianblur)\n",
    "cv2.waitKey(0)\n",
    "\n",
    "bilateral = cv2.bilateralFilter(image, 5, 75, 75)\n",
    "cv2.imshow(\"Bilateral\", bilateral)\n",
    "cv2.waitKey(0)\n",
    "\n",
    "cv2.destroyAllWindows()"
   ]
  },
  {
   "cell_type": "markdown",
   "metadata": {},
   "source": [
    "### De-Noising"
   ]
  },
  {
   "cell_type": "code",
   "execution_count": 32,
   "metadata": {},
   "outputs": [],
   "source": [
    "cv2.imshow(\"Original_Image\", image)\n",
    "cv2.waitKey(0)\n",
    "\n",
    "dst = cv2.fastNlMeansDenoisingColored(image, None, 6, 6, 7, 21)\n",
    "cv2.imshow('Fast Means Denoising', dst)\n",
    "cv2.waitKey(0)\n",
    "\n",
    "cv2.destroyAllWindows()"
   ]
  },
  {
   "cell_type": "markdown",
   "metadata": {},
   "source": [
    "### Sharpening"
   ]
  },
  {
   "cell_type": "code",
   "execution_count": 9,
   "metadata": {},
   "outputs": [],
   "source": [
    "kernel_sharpening = np.array([[-1, -1, -1], [-1, 9, -1], [-1, -1, -1]])\n",
    "\n",
    "sharpened = cv2.filter2D(image, -1, kernel_sharpening)\n",
    "\n",
    "cv2.imshow(\"Image_Sharpening\", sharpened)\n",
    "cv2.waitKey()\n",
    "cv2.destroyAllWindows()"
   ]
  },
  {
   "cell_type": "markdown",
   "metadata": {},
   "source": [
    "### Thresholding"
   ]
  },
  {
   "cell_type": "code",
   "execution_count": 16,
   "metadata": {},
   "outputs": [],
   "source": [
    "# Values below 127 goes to 0 (black, everything above goes to 255 (white)\n",
    "ret, thresh1 = cv2.threshold(gray_image, 127, 255, cv2.THRESH_BINARY)\n",
    "cv2.imshow(\"Threshold Binary\", thresh1)\n",
    "\n",
    "# Values below 127 go to 255 and values above 127 go to 0 (reverse of above)\n",
    "ret, thresh2 = cv2.threshold(gray_image, 127, 255, cv2.THRESH_BINARY_INV)\n",
    "cv2.imshow(\"Threshold Binary Inverse\", thresh2)\n",
    "\n",
    "# Values above 127 are truncated (held) at 127 (the 255 argument is unused)\n",
    "ret, thresh3 = cv2.threshold(gray_image, 127, 255, cv2.THRESH_TRUNC)\n",
    "cv2.imshow(\"Threshold Truncate\", thresh3)\n",
    "\n",
    "# Values below 127 go to 0, above 127 are unchanged \n",
    "ret, thresh4 = cv2.threshold(gray_image, 127, 255, cv2.THRESH_TOZERO)\n",
    "cv2.imshow(\"Threshold ToZero\", thresh4)\n",
    "\n",
    "# Resever of above, below 127 is unchanged, above 127 goes to 0\n",
    "ret, thresh5 = cv2.threshold(gray_image, 127, 255, cv2.THRESH_TOZERO_INV)\n",
    "cv2.imshow('Threshold ToZero Inv', thresh5)\n",
    "\n",
    "cv2.waitKey()\n",
    "cv2.destroyAllWindows()"
   ]
  },
  {
   "cell_type": "code",
   "execution_count": 31,
   "metadata": {},
   "outputs": [],
   "source": [
    "cv2.imshow(\"Original Image\", gray_image)\n",
    "cv2.waitKey()\n",
    "\n",
    "ret, thresh1 = cv2.threshold(gray_image, 127, 255, cv2.THRESH_BINARY)\n",
    "cv2.imshow(\"Binary Threshold\", thresh1)\n",
    "cv2.waitKey()\n",
    "\n",
    "gaussian = cv2.GaussianBlur(gray_image, (3, 3), 0)\n",
    "\n",
    "th1 = cv2.adaptiveThreshold(gaussian, 255, cv2.ADAPTIVE_THRESH_MEAN_C, cv2.THRESH_BINARY, 3, 5)\n",
    "cv2.imshow(\"Adaptive Mean\", th1)\n",
    "cv2.waitKey()\n",
    "\n",
    "_, th2 = cv2.threshold(gray_image, 0, 255, cv2.THRESH_BINARY + cv2.THRESH_OTSU)\n",
    "cv2.imshow(\"Otsu's Thresholding\", th2) \n",
    "cv2.waitKey(0) \n",
    "\n",
    "_, th3 = cv2.threshold(gaussian, 0, 255, cv2.THRESH_BINARY + cv2.THRESH_OTSU)\n",
    "cv2.imshow(\"Gaussian Otsu's Thresholding\", th3) \n",
    "cv2.waitKey(0) \n",
    "\n",
    "cv2.destroyAllWindows()"
   ]
  },
  {
   "cell_type": "markdown",
   "metadata": {},
   "source": [
    "### Dilation, Erosion, Opening and Closing"
   ]
  },
  {
   "cell_type": "code",
   "execution_count": 41,
   "metadata": {},
   "outputs": [],
   "source": [
    "kernel_5x5 = np.ones((5, 5), dtype = np.uint8)\n",
    "\n",
    "erosion = cv2.erode(image, kernel_5x5, iterations = 1)\n",
    "cv2.imshow(\"Eroded\", erosion)\n",
    "cv2.waitKey()\n",
    "\n",
    "dilation = cv2.dilate(image, kernel_5x5, iterations = 1)\n",
    "cv2.imshow(\"Dilated\", dilation)\n",
    "cv2.waitKey()\n",
    "\n",
    "opening = cv2.morphologyEx(image, cv2.MORPH_OPEN, kernel_5x5)\n",
    "cv2.imshow(\"Opening\", opening)\n",
    "cv2.waitKey()\n",
    "\n",
    "closing = cv2.morphologyEx(image, cv2.MORPH_CLOSE, kernel_5x5)\n",
    "cv2.imshow(\"Closing\", closing)\n",
    "cv2.waitKey()\n",
    "\n",
    "cv2.destroyAllWindows()"
   ]
  },
  {
   "cell_type": "markdown",
   "metadata": {},
   "source": [
    "### Edge Detection and Image Gradients"
   ]
  },
  {
   "cell_type": "code",
   "execution_count": 2,
   "metadata": {},
   "outputs": [
    {
     "ename": "error",
     "evalue": "OpenCV(4.0.0) c:\\projects\\opencv-python\\opencv\\modules\\imgproc\\src\\color.hpp:261: error: (-2:Unspecified error) in function '__cdecl cv::CvtHelper<struct cv::Set<1,-1,-1>,struct cv::Set<3,4,-1>,struct cv::Set<0,2,5>,2>::CvtHelper(const class cv::_InputArray &,const class cv::_OutputArray &,int)'\n> Unsupported depth of input image:\n>     'VDepth::contains(depth)'\n> where\n>     'depth' is 6 (CV_64F)\n",
     "output_type": "error",
     "traceback": [
      "\u001b[1;31m---------------------------------------------------------------------------\u001b[0m",
      "\u001b[1;31merror\u001b[0m                                     Traceback (most recent call last)",
      "\u001b[1;32m<ipython-input-2-12bf5271aa27>\u001b[0m in \u001b[0;36m<module>\u001b[1;34m()\u001b[0m\n\u001b[0;32m     11\u001b[0m \u001b[0mcv2\u001b[0m\u001b[1;33m.\u001b[0m\u001b[0mimshow\u001b[0m\u001b[1;33m(\u001b[0m\u001b[1;34m'Original'\u001b[0m\u001b[1;33m,\u001b[0m \u001b[0mgray_image\u001b[0m\u001b[1;33m)\u001b[0m\u001b[1;33m\u001b[0m\u001b[0m\n\u001b[0;32m     12\u001b[0m \u001b[0mcv2\u001b[0m\u001b[1;33m.\u001b[0m\u001b[0mwaitKey\u001b[0m\u001b[1;33m(\u001b[0m\u001b[1;36m0\u001b[0m\u001b[1;33m)\u001b[0m\u001b[1;33m\u001b[0m\u001b[0m\n\u001b[1;32m---> 13\u001b[1;33m \u001b[0mcv2\u001b[0m\u001b[1;33m.\u001b[0m\u001b[0mimshow\u001b[0m\u001b[1;33m(\u001b[0m\u001b[1;34m'Sobel X'\u001b[0m\u001b[1;33m,\u001b[0m \u001b[0msobel_x\u001b[0m\u001b[1;33m)\u001b[0m\u001b[1;33m\u001b[0m\u001b[0m\n\u001b[0m\u001b[0;32m     14\u001b[0m \u001b[0mcv2\u001b[0m\u001b[1;33m.\u001b[0m\u001b[0mwaitKey\u001b[0m\u001b[1;33m(\u001b[0m\u001b[1;36m0\u001b[0m\u001b[1;33m)\u001b[0m\u001b[1;33m\u001b[0m\u001b[0m\n\u001b[0;32m     15\u001b[0m \u001b[0mcv2\u001b[0m\u001b[1;33m.\u001b[0m\u001b[0mimshow\u001b[0m\u001b[1;33m(\u001b[0m\u001b[1;34m'Sobel Y'\u001b[0m\u001b[1;33m,\u001b[0m \u001b[0msobel_y\u001b[0m\u001b[1;33m)\u001b[0m\u001b[1;33m\u001b[0m\u001b[0m\n",
      "\u001b[1;31merror\u001b[0m: OpenCV(4.0.0) c:\\projects\\opencv-python\\opencv\\modules\\imgproc\\src\\color.hpp:261: error: (-2:Unspecified error) in function '__cdecl cv::CvtHelper<struct cv::Set<1,-1,-1>,struct cv::Set<3,4,-1>,struct cv::Set<0,2,5>,2>::CvtHelper(const class cv::_InputArray &,const class cv::_OutputArray &,int)'\n> Unsupported depth of input image:\n>     'VDepth::contains(depth)'\n> where\n>     'depth' is 6 (CV_64F)\n"
     ]
    }
   ],
   "source": [
    "import cv2\n",
    "import numpy as np\n",
    "\n",
    "gray_image = cv2.imread('tesla.jpg',0)\n",
    "\n",
    "height, width = gray_image.shape\n",
    "\n",
    "sobel_x = cv2.Sobel(gray_image, cv2.CV_64F, 0, 1, ksize=5)\n",
    "sobel_y = cv2.Sobel(gray_image, cv2.CV_64F, 1, 0, ksize=5)\n",
    "\n",
    "cv2.imshow('Original', gray_image)\n",
    "cv2.waitKey(0)\n",
    "cv2.imshow('Sobel X', sobel_x)\n",
    "cv2.waitKey(0)\n",
    "cv2.imshow('Sobel Y', sobel_y)\n",
    "cv2.waitKey(0)\n",
    "\n",
    "cv2.destroyAllWindows()"
   ]
  },
  {
   "cell_type": "code",
   "execution_count": 4,
   "metadata": {},
   "outputs": [
    {
     "ename": "error",
     "evalue": "OpenCV(4.0.0) c:\\projects\\opencv-python\\opencv\\modules\\imgproc\\src\\color.hpp:261: error: (-2:Unspecified error) in function '__cdecl cv::CvtHelper<struct cv::Set<1,-1,-1>,struct cv::Set<3,4,-1>,struct cv::Set<0,2,5>,2>::CvtHelper(const class cv::_InputArray &,const class cv::_OutputArray &,int)'\n> Unsupported depth of input image:\n>     'VDepth::contains(depth)'\n> where\n>     'depth' is 6 (CV_64F)\n",
     "output_type": "error",
     "traceback": [
      "\u001b[1;31m---------------------------------------------------------------------------\u001b[0m",
      "\u001b[1;31merror\u001b[0m                                     Traceback (most recent call last)",
      "\u001b[1;32m<ipython-input-4-4beb1b5acaa8>\u001b[0m in \u001b[0;36m<module>\u001b[1;34m()\u001b[0m\n\u001b[0;32m      1\u001b[0m \u001b[0mlaplacian\u001b[0m \u001b[1;33m=\u001b[0m \u001b[0mcv2\u001b[0m\u001b[1;33m.\u001b[0m\u001b[0mLaplacian\u001b[0m\u001b[1;33m(\u001b[0m\u001b[0mgray_image\u001b[0m\u001b[1;33m,\u001b[0m \u001b[0mcv2\u001b[0m\u001b[1;33m.\u001b[0m\u001b[0mCV_64F\u001b[0m\u001b[1;33m)\u001b[0m\u001b[1;33m\u001b[0m\u001b[0m\n\u001b[1;32m----> 2\u001b[1;33m \u001b[0mcv2\u001b[0m\u001b[1;33m.\u001b[0m\u001b[0mimshow\u001b[0m\u001b[1;33m(\u001b[0m\u001b[1;34m'Laplacian'\u001b[0m\u001b[1;33m,\u001b[0m \u001b[0mlaplacian\u001b[0m\u001b[1;33m)\u001b[0m\u001b[1;33m\u001b[0m\u001b[0m\n\u001b[0m\u001b[0;32m      3\u001b[0m \u001b[0mcv2\u001b[0m\u001b[1;33m.\u001b[0m\u001b[0mwaitKey\u001b[0m\u001b[1;33m(\u001b[0m\u001b[1;36m0\u001b[0m\u001b[1;33m)\u001b[0m\u001b[1;33m\u001b[0m\u001b[0m\n\u001b[0;32m      4\u001b[0m \u001b[0mcv2\u001b[0m\u001b[1;33m.\u001b[0m\u001b[0mdestroyAllWindows\u001b[0m\u001b[1;33m(\u001b[0m\u001b[1;33m)\u001b[0m\u001b[1;33m\u001b[0m\u001b[0m\n",
      "\u001b[1;31merror\u001b[0m: OpenCV(4.0.0) c:\\projects\\opencv-python\\opencv\\modules\\imgproc\\src\\color.hpp:261: error: (-2:Unspecified error) in function '__cdecl cv::CvtHelper<struct cv::Set<1,-1,-1>,struct cv::Set<3,4,-1>,struct cv::Set<0,2,5>,2>::CvtHelper(const class cv::_InputArray &,const class cv::_OutputArray &,int)'\n> Unsupported depth of input image:\n>     'VDepth::contains(depth)'\n> where\n>     'depth' is 6 (CV_64F)\n"
     ]
    }
   ],
   "source": [
    "laplacian = cv2.Laplacian(gray_image, cv2.CV_64F)\n",
    "cv2.imshow('Laplacian', laplacian)\n",
    "cv2.waitKey(0)\n",
    "cv2.destroyAllWindows()"
   ]
  },
  {
   "cell_type": "code",
   "execution_count": 8,
   "metadata": {},
   "outputs": [],
   "source": [
    "canny = cv2.Canny(gray_image, 50, 120)\n",
    "cv2.imshow(\"Canny\", canny)\n",
    "cv2.waitKey()\n",
    "cv2.destroyAllWindows()"
   ]
  },
  {
   "cell_type": "markdown",
   "metadata": {},
   "source": [
    "### Perspective and Affine Transform"
   ]
  },
  {
   "cell_type": "code",
   "execution_count": null,
   "metadata": {},
   "outputs": [],
   "source": []
  },
  {
   "cell_type": "code",
   "execution_count": null,
   "metadata": {},
   "outputs": [],
   "source": []
  },
  {
   "cell_type": "markdown",
   "metadata": {},
   "source": [
    "### Live Sketch Using Webcam"
   ]
  },
  {
   "cell_type": "code",
   "execution_count": 12,
   "metadata": {},
   "outputs": [],
   "source": [
    "def sketch(image):  \n",
    "    img_gray = cv2.cvtColor(image, cv2.COLOR_BGR2GRAY)\n",
    "    img_gray_blur = cv2.GaussianBlur(img_gray, (5, 5), 0)\n",
    "    canny_edges = cv2.Canny(img_gray_blur, 10, 70)\n",
    "    ret, mask = cv2.threshold(canny_edges, 70, 255, cv2.THRESH_BINARY_INV)\n",
    "    return mask\n",
    "\n",
    "cap = cv2.VideoCapture(0)\n",
    "\n",
    "while True:\n",
    "    ret, frame = cap.read()\n",
    "    cv2.imshow('Our Live Sketcher', sketch(frame))\n",
    "    if cv2.waitKey(1) == 13:\n",
    "        break\n",
    "        \n",
    "cap.release()\n",
    "cv2.destroyAllWindows()"
   ]
  },
  {
   "cell_type": "code",
   "execution_count": null,
   "metadata": {},
   "outputs": [],
   "source": []
  }
 ],
 "metadata": {
  "kernelspec": {
   "display_name": "Python 3",
   "language": "python",
   "name": "python3"
  },
  "language_info": {
   "codemirror_mode": {
    "name": "ipython",
    "version": 3
   },
   "file_extension": ".py",
   "mimetype": "text/x-python",
   "name": "python",
   "nbconvert_exporter": "python",
   "pygments_lexer": "ipython3",
   "version": "3.7.1"
  }
 },
 "nbformat": 4,
 "nbformat_minor": 2
}
