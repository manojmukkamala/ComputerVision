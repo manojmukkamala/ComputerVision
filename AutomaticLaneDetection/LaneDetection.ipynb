{
 "cells": [
  {
   "cell_type": "markdown",
   "metadata": {},
   "source": [
    "### 1. Importing Packages and Image"
   ]
  },
  {
   "cell_type": "code",
   "execution_count": null,
   "metadata": {},
   "outputs": [],
   "source": [
    "import cv2\n",
    "import numpy as np\n",
    "import matplotlib.pyplot as plt"
   ]
  },
  {
   "cell_type": "code",
   "execution_count": null,
   "metadata": {},
   "outputs": [],
   "source": [
    "image = cv2.imread(\"road.jpg\")\n",
    "\n",
    "cv2.imshow(\"Original\", image)\n",
    "\n",
    "cv2.waitKey()\n",
    "cv2.destroyAllWindows()"
   ]
  },
  {
   "cell_type": "code",
   "execution_count": null,
   "metadata": {},
   "outputs": [],
   "source": [
    "lane_image = np.copy(image)"
   ]
  },
  {
   "cell_type": "markdown",
   "metadata": {},
   "source": [
    "### 2. Grayscale Conversion"
   ]
  },
  {
   "cell_type": "code",
   "execution_count": null,
   "metadata": {},
   "outputs": [],
   "source": [
    "gray = cv2.cvtColor(lane_image, cv2.COLOR_RGB2GRAY)\n",
    "\n",
    "cv2.imshow(\"Image\", gray)\n",
    "\n",
    "cv2.waitKey()\n",
    "cv2.destroyAllWindows()"
   ]
  },
  {
   "cell_type": "markdown",
   "metadata": {},
   "source": [
    "### 3. Gaussian Blur"
   ]
  },
  {
   "cell_type": "code",
   "execution_count": null,
   "metadata": {},
   "outputs": [],
   "source": [
    "blur = cv2.GaussianBlur(gray, (5, 5), 0)\n",
    "\n",
    "cv2.imshow(\"Image\", blur)\n",
    "\n",
    "cv2.waitKey()\n",
    "cv2.destroyAllWindows()"
   ]
  },
  {
   "cell_type": "markdown",
   "metadata": {},
   "source": [
    "### 4. Canny "
   ]
  },
  {
   "cell_type": "code",
   "execution_count": null,
   "metadata": {},
   "outputs": [],
   "source": [
    "#canny = cv2.Canny(blur, 30, 90)\n",
    "canny = cv2.Canny(blur, 50, 150)\n",
    "\n",
    "cv2.imshow(\"Image\", canny)\n",
    "\n",
    "cv2.waitKey()\n",
    "cv2.destroyAllWindows()"
   ]
  },
  {
   "cell_type": "markdown",
   "metadata": {},
   "source": [
    "### 5. Region of Interest"
   ]
  },
  {
   "cell_type": "code",
   "execution_count": null,
   "metadata": {},
   "outputs": [],
   "source": [
    "def cannyImage(image):\n",
    "    \n",
    "    gray = cv2.cvtColor(image, cv2.COLOR_RGB2GRAY)    \n",
    "    blur = cv2.GaussianBlur(image, (5, 5), 0)\n",
    "    #canny = cv2.Canny(blur, 30, 90)\n",
    "    canny = cv2.Canny(blur, 50, 150)\n",
    "    \n",
    "    return canny"
   ]
  },
  {
   "cell_type": "code",
   "execution_count": null,
   "metadata": {},
   "outputs": [],
   "source": [
    "canny = cannyImage(image)\n",
    "\n",
    "cv2.imshow(\"Image\", canny)\n",
    "\n",
    "cv2.waitKey()\n",
    "cv2.destroyAllWindows()"
   ]
  },
  {
   "cell_type": "code",
   "execution_count": null,
   "metadata": {},
   "outputs": [],
   "source": [
    "plt.imshow(canny)\n",
    "plt.show()"
   ]
  },
  {
   "cell_type": "code",
   "execution_count": null,
   "metadata": {},
   "outputs": [],
   "source": [
    "def region_of_interest(image):\n",
    "    \n",
    "    height = image.shape[0]\n",
    "    #polygons = np.array([[(250, height), (1500, height), (800, 400)]])\n",
    "    polygons = np.array([[(200, height), (1100, height), (550, 250)]])\n",
    "    mask = np.zeros_like(image)\n",
    "    cv2.fillPoly(mask, polygons, 255)\n",
    "    \n",
    "    return mask"
   ]
  },
  {
   "cell_type": "code",
   "execution_count": null,
   "metadata": {},
   "outputs": [],
   "source": [
    "cv2.imshow(\"Image\", region_of_interest(canny))\n",
    "\n",
    "cv2.waitKey()\n",
    "cv2.destroyAllWindows()"
   ]
  },
  {
   "cell_type": "markdown",
   "metadata": {},
   "source": [
    "### 6. Bitwise And"
   ]
  },
  {
   "cell_type": "code",
   "execution_count": null,
   "metadata": {},
   "outputs": [],
   "source": [
    "def region_of_interest(image):\n",
    "    \n",
    "    height = image.shape[0]\n",
    "    #polygons = np.array([[(250, height), (1500, height), (800, 400)]])\n",
    "    polygons = np.array([[(200, height), (1100, height), (550, 250)]])\n",
    "    mask = np.zeros_like(image)\n",
    "    cv2.fillPoly(mask, polygons, 255)\n",
    "    masked_image = cv2.bitwise_and(image, mask)\n",
    "    \n",
    "    return masked_image"
   ]
  },
  {
   "cell_type": "code",
   "execution_count": null,
   "metadata": {},
   "outputs": [],
   "source": [
    "cropped_image = region_of_interest(canny)\n",
    "cv2.imshow(\"Image\", cropped_image)\n",
    "\n",
    "cv2.waitKey()\n",
    "cv2.destroyAllWindows()"
   ]
  },
  {
   "cell_type": "markdown",
   "metadata": {},
   "source": [
    "### 7 & 8. Hough Transform"
   ]
  },
  {
   "cell_type": "code",
   "execution_count": null,
   "metadata": {},
   "outputs": [],
   "source": [
    "lines = cv2.HoughLinesP(cropped_image, 2, np.pi/180, 100, np.array([]), minLineLength = 40, maxLineGap = 5)"
   ]
  },
  {
   "cell_type": "code",
   "execution_count": null,
   "metadata": {},
   "outputs": [],
   "source": [
    "def display_lines(image, lines):\n",
    "    line_image = np.zeros_like(image)\n",
    "    if lines is not None:\n",
    "        for line in lines:\n",
    "            x1, y1, x2, y2 = line.reshape(4)\n",
    "            cv2.line(line_image, (x1, y1), (x2, y2), (255, 0, 0), 10)\n",
    "            \n",
    "    return line_image"
   ]
  },
  {
   "cell_type": "code",
   "execution_count": null,
   "metadata": {},
   "outputs": [],
   "source": [
    "line_image = display_lines(lane_image, lines)\n",
    "\n",
    "cv2.imshow(\"Image\", line_image)\n",
    "\n",
    "cv2.waitKey()\n",
    "cv2.destroyAllWindows()"
   ]
  },
  {
   "cell_type": "code",
   "execution_count": null,
   "metadata": {},
   "outputs": [],
   "source": [
    "combo_image = cv2.addWeighted(lane_image, 0.8, line_image, 1, 1)\n",
    "\n",
    "cv2.imshow(\"Image\", combo_image)\n",
    "\n",
    "cv2.waitKey()\n",
    "cv2.destroyAllWindows()"
   ]
  },
  {
   "cell_type": "markdown",
   "metadata": {},
   "source": [
    "### 9. Optimization"
   ]
  },
  {
   "cell_type": "code",
   "execution_count": null,
   "metadata": {},
   "outputs": [],
   "source": [
    "def average_slope_intercept(image, lines):\n",
    "    \n",
    "    left_fit = []\n",
    "    right_fit = []\n",
    "    \n",
    "    for line in lines:\n",
    "        x1, y1, x2, y2 = line.reshape(4)\n",
    "        parameters = np.polyfit((x1, x2), (y1, y2), 1)\n",
    "        slope = parameters[0]\n",
    "        intercept = parameters[1]\n",
    "        if slope < 0:\n",
    "            left_fit.append((slope, intercept))\n",
    "        else:\n",
    "            right_fit.append((slope, intercept))\n",
    "        \n",
    "    left_fit_average = np.average(left_fit, axis = 0)\n",
    "    right_fit_average = np.average(right_fit, axis = 0)\n",
    "    left_lane = make_coordinates(image, left_fit_average)\n",
    "    right_lane = make_coordinates(image, right_fit_average)\n",
    "    return np.array([left_lane, right_lane])"
   ]
  },
  {
   "cell_type": "code",
   "execution_count": null,
   "metadata": {},
   "outputs": [],
   "source": [
    "def make_coordinates(image, line_parameters):\n",
    "    slope, intercept = line_parameters\n",
    "    y1 = image.shape[0]\n",
    "    y2 = int(y1 * (3/5))\n",
    "    x1 = int((y1 - intercept)/slope)\n",
    "    x2 = int((y2 - intercept)/slope)\n",
    "    return np.array([x1, y1, x2, y2])"
   ]
  },
  {
   "cell_type": "code",
   "execution_count": null,
   "metadata": {},
   "outputs": [],
   "source": [
    "averaged_lines = average_slope_intercept(lane_image, lines)"
   ]
  },
  {
   "cell_type": "code",
   "execution_count": null,
   "metadata": {},
   "outputs": [],
   "source": [
    "line_image = display_lines(lane_image, averaged_lines)\n",
    "\n",
    "cv2.imshow(\"Image\", line_image)\n",
    "\n",
    "cv2.waitKey()\n",
    "cv2.destroyAllWindows()"
   ]
  },
  {
   "cell_type": "code",
   "execution_count": null,
   "metadata": {},
   "outputs": [],
   "source": [
    "combo_image = cv2.addWeighted(lane_image, 0.8, line_image, 1, 1)\n",
    "\n",
    "cv2.imshow(\"Image\", combo_image)\n",
    "\n",
    "cv2.waitKey()\n",
    "cv2.destroyAllWindows()"
   ]
  },
  {
   "cell_type": "markdown",
   "metadata": {},
   "source": [
    "### 10. Finding Lane Lines"
   ]
  },
  {
   "cell_type": "code",
   "execution_count": null,
   "metadata": {},
   "outputs": [],
   "source": [
    "cap = cv2.VideoCapture(\"test2.mp4\")\n",
    "\n",
    "while(cap.isOpened()):\n",
    "    _, frame = cap.read()\n",
    "    canny_image = cannyImage(frame)\n",
    "    cropped_image = region_of_interest(canny_image)\n",
    "    lines = cv2.HoughLinesP(cropped_image, 2, np.pi/180, 100, np.array([]), minLineLength = 40, maxLineGap = 5)\n",
    "    averaged_lines = average_slope_intercept(frame, lines)\n",
    "    line_image = display_lines(frame, averaged_lines)\n",
    "    combo_image = cv2.addWeighted(frame, 0.8, line_image, 1, 1)\n",
    "    cv2.imshow(\"Image\", combo_image)\n",
    "    cv2.waitKey(1)\n",
    "    \n",
    "cv2.destroyAllWindows()"
   ]
  },
  {
   "cell_type": "code",
   "execution_count": 1,
   "metadata": {},
   "outputs": [
    {
     "ename": "error",
     "evalue": "OpenCV(4.0.0) C:\\projects\\opencv-python\\opencv\\modules\\imgproc\\src\\color.cpp:181: error: (-215:Assertion failed) !_src.empty() in function 'cv::cvtColor'\n",
     "output_type": "error",
     "traceback": [
      "\u001b[1;31m---------------------------------------------------------------------------\u001b[0m",
      "\u001b[1;31merror\u001b[0m                                     Traceback (most recent call last)",
      "\u001b[1;32m<ipython-input-1-f8d7acef93e0>\u001b[0m in \u001b[0;36m<module>\u001b[1;34m()\u001b[0m\n\u001b[0;32m     66\u001b[0m \u001b[1;32mwhile\u001b[0m\u001b[1;33m(\u001b[0m\u001b[0mcap\u001b[0m\u001b[1;33m.\u001b[0m\u001b[0misOpened\u001b[0m\u001b[1;33m(\u001b[0m\u001b[1;33m)\u001b[0m\u001b[1;33m)\u001b[0m\u001b[1;33m:\u001b[0m\u001b[1;33m\u001b[0m\u001b[0m\n\u001b[0;32m     67\u001b[0m     \u001b[0m_\u001b[0m\u001b[1;33m,\u001b[0m \u001b[0mframe\u001b[0m \u001b[1;33m=\u001b[0m \u001b[0mcap\u001b[0m\u001b[1;33m.\u001b[0m\u001b[0mread\u001b[0m\u001b[1;33m(\u001b[0m\u001b[1;33m)\u001b[0m\u001b[1;33m\u001b[0m\u001b[0m\n\u001b[1;32m---> 68\u001b[1;33m     \u001b[0mcanny_image\u001b[0m \u001b[1;33m=\u001b[0m \u001b[0mcannyImage\u001b[0m\u001b[1;33m(\u001b[0m\u001b[0mframe\u001b[0m\u001b[1;33m)\u001b[0m\u001b[1;33m\u001b[0m\u001b[0m\n\u001b[0m\u001b[0;32m     69\u001b[0m     \u001b[0mcropped_image\u001b[0m \u001b[1;33m=\u001b[0m \u001b[0mregion_of_interest\u001b[0m\u001b[1;33m(\u001b[0m\u001b[0mcanny_image\u001b[0m\u001b[1;33m)\u001b[0m\u001b[1;33m\u001b[0m\u001b[0m\n\u001b[0;32m     70\u001b[0m     \u001b[0mlines\u001b[0m \u001b[1;33m=\u001b[0m \u001b[0mcv2\u001b[0m\u001b[1;33m.\u001b[0m\u001b[0mHoughLinesP\u001b[0m\u001b[1;33m(\u001b[0m\u001b[0mcropped_image\u001b[0m\u001b[1;33m,\u001b[0m \u001b[1;36m2\u001b[0m\u001b[1;33m,\u001b[0m \u001b[0mnp\u001b[0m\u001b[1;33m.\u001b[0m\u001b[0mpi\u001b[0m\u001b[1;33m/\u001b[0m\u001b[1;36m180\u001b[0m\u001b[1;33m,\u001b[0m \u001b[1;36m60\u001b[0m\u001b[1;33m,\u001b[0m \u001b[0mnp\u001b[0m\u001b[1;33m.\u001b[0m\u001b[0marray\u001b[0m\u001b[1;33m(\u001b[0m\u001b[1;33m[\u001b[0m\u001b[1;33m]\u001b[0m\u001b[1;33m)\u001b[0m\u001b[1;33m,\u001b[0m \u001b[0mminLineLength\u001b[0m \u001b[1;33m=\u001b[0m \u001b[1;36m10\u001b[0m\u001b[1;33m,\u001b[0m \u001b[0mmaxLineGap\u001b[0m \u001b[1;33m=\u001b[0m \u001b[1;36m5\u001b[0m\u001b[1;33m)\u001b[0m\u001b[1;33m\u001b[0m\u001b[0m\n",
      "\u001b[1;32m<ipython-input-1-f8d7acef93e0>\u001b[0m in \u001b[0;36mcannyImage\u001b[1;34m(image)\u001b[0m\n\u001b[0;32m      5\u001b[0m \u001b[1;33m\u001b[0m\u001b[0m\n\u001b[0;32m      6\u001b[0m \u001b[1;32mdef\u001b[0m \u001b[0mcannyImage\u001b[0m\u001b[1;33m(\u001b[0m\u001b[0mimage\u001b[0m\u001b[1;33m)\u001b[0m\u001b[1;33m:\u001b[0m\u001b[1;33m\u001b[0m\u001b[0m\n\u001b[1;32m----> 7\u001b[1;33m     \u001b[0mgray\u001b[0m \u001b[1;33m=\u001b[0m \u001b[0mcv2\u001b[0m\u001b[1;33m.\u001b[0m\u001b[0mcvtColor\u001b[0m\u001b[1;33m(\u001b[0m\u001b[0mimage\u001b[0m\u001b[1;33m,\u001b[0m \u001b[0mcv2\u001b[0m\u001b[1;33m.\u001b[0m\u001b[0mCOLOR_RGB2GRAY\u001b[0m\u001b[1;33m)\u001b[0m\u001b[1;33m\u001b[0m\u001b[0m\n\u001b[0m\u001b[0;32m      8\u001b[0m     \u001b[0mblur\u001b[0m \u001b[1;33m=\u001b[0m \u001b[0mcv2\u001b[0m\u001b[1;33m.\u001b[0m\u001b[0mGaussianBlur\u001b[0m\u001b[1;33m(\u001b[0m\u001b[0mimage\u001b[0m\u001b[1;33m,\u001b[0m \u001b[1;33m(\u001b[0m\u001b[1;36m5\u001b[0m\u001b[1;33m,\u001b[0m \u001b[1;36m5\u001b[0m\u001b[1;33m)\u001b[0m\u001b[1;33m,\u001b[0m \u001b[1;36m0\u001b[0m\u001b[1;33m)\u001b[0m\u001b[1;33m\u001b[0m\u001b[0m\n\u001b[0;32m      9\u001b[0m     \u001b[0mcanny\u001b[0m \u001b[1;33m=\u001b[0m \u001b[0mcv2\u001b[0m\u001b[1;33m.\u001b[0m\u001b[0mCanny\u001b[0m\u001b[1;33m(\u001b[0m\u001b[0mblur\u001b[0m\u001b[1;33m,\u001b[0m \u001b[1;36m30\u001b[0m\u001b[1;33m,\u001b[0m \u001b[1;36m90\u001b[0m\u001b[1;33m)\u001b[0m\u001b[1;33m\u001b[0m\u001b[0m\n",
      "\u001b[1;31merror\u001b[0m: OpenCV(4.0.0) C:\\projects\\opencv-python\\opencv\\modules\\imgproc\\src\\color.cpp:181: error: (-215:Assertion failed) !_src.empty() in function 'cv::cvtColor'\n"
     ]
    }
   ],
   "source": [
    "import cv2\n",
    "import numpy as np\n",
    "import matplotlib.pyplot as plt\n",
    "\n",
    "\n",
    "def cannyImage(image):    \n",
    "    gray = cv2.cvtColor(image, cv2.COLOR_RGB2GRAY)    \n",
    "    blur = cv2.GaussianBlur(image, (5, 5), 0)\n",
    "    canny = cv2.Canny(blur, 30, 90)    \n",
    "    return canny\n",
    "\n",
    "\n",
    "def region_of_interest(image):    \n",
    "    height = image.shape[0]\n",
    "    polygons = np.array([[(200, height), (1100, height), (550, 250)]])\n",
    "    mask = np.zeros_like(image)\n",
    "    cv2.fillPoly(mask, polygons, 255)\n",
    "    masked_image = cv2.bitwise_and(image, mask)    \n",
    "    return masked_image\n",
    "\n",
    "\n",
    "def display_lines(image, lines):\n",
    "    line_image = np.zeros_like(image)\n",
    "    if lines is not None:\n",
    "        for line in lines:\n",
    "            x1, y1, x2, y2 = line.reshape(4)\n",
    "            cv2.line(line_image, (x1, y1), (x2, y2), (255, 0, 0), 10) \n",
    "    else: \n",
    "        pass\n",
    "    return line_image\n",
    "\n",
    "\n",
    "def average_slope_intercept(image, lines):\n",
    "    \n",
    "    left_fit = []\n",
    "    right_fit = []\n",
    "    \n",
    "    for line in lines:\n",
    "        x1, y1, x2, y2 = line.reshape(4)\n",
    "        parameters = np.polyfit((x1, x2), (y1, y2), 1)\n",
    "        slope = parameters[0]\n",
    "        intercept = parameters[1]\n",
    "        if slope < 0:\n",
    "            left_fit.append((slope, intercept))\n",
    "        else:\n",
    "            right_fit.append((slope, intercept))\n",
    "        \n",
    "    left_fit_average = np.average(left_fit, axis = 0)\n",
    "    right_fit_average = np.average(right_fit, axis = 0)\n",
    "    left_lane = make_coordinates(image, left_fit_average)\n",
    "    right_lane = make_coordinates(image, right_fit_average)\n",
    "    return np.array([left_lane, right_lane])\n",
    "\n",
    "\n",
    "def make_coordinates(image, line_parameters):\n",
    "    slope, intercept = line_parameters\n",
    "    y1 = image.shape[0]\n",
    "    y2 = int(y1 * (3/5))\n",
    "    x1 = int((y1 - intercept)/slope)\n",
    "    x2 = int((y2 - intercept)/slope)\n",
    "    return np.array([x1, y1, x2, y2])\n",
    "\n",
    "\n",
    "cap = cv2.VideoCapture(\"test2.mp4\")\n",
    "\n",
    "while(cap.isOpened()):\n",
    "    _, frame = cap.read()\n",
    "    canny_image = cannyImage(frame)\n",
    "    cropped_image = region_of_interest(canny_image)\n",
    "    lines = cv2.HoughLinesP(cropped_image, 2, np.pi/180, 60, np.array([]), minLineLength = 10, maxLineGap = 5)\n",
    "    averaged_lines = average_slope_intercept(frame, lines)\n",
    "    line_image = display_lines(frame, averaged_lines)\n",
    "    combo_image = cv2.addWeighted(frame, 0.8, line_image, 1, 1)\n",
    "    cv2.imshow(\"Image\", combo_image)\n",
    "    cv2.waitKey(1)\n",
    "    \n",
    "cv2.destroyAllWindows()"
   ]
  },
  {
   "cell_type": "code",
   "execution_count": null,
   "metadata": {},
   "outputs": [],
   "source": []
  }
 ],
 "metadata": {
  "kernelspec": {
   "display_name": "Python 3",
   "language": "python",
   "name": "python3"
  },
  "language_info": {
   "codemirror_mode": {
    "name": "ipython",
    "version": 3
   },
   "file_extension": ".py",
   "mimetype": "text/x-python",
   "name": "python",
   "nbconvert_exporter": "python",
   "pygments_lexer": "ipython3",
   "version": "3.7.1"
  }
 },
 "nbformat": 4,
 "nbformat_minor": 2
}
